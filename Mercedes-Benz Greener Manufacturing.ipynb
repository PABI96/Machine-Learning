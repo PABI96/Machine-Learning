{
 "cells": [
  {
   "cell_type": "code",
   "execution_count": 1,
   "id": "4daf2b9f-2a10-4973-94de-dfb403bd9cb2",
   "metadata": {},
   "outputs": [],
   "source": [
    "import numpy as np\n",
    "import pandas as pd\n",
    "import matplotlib.pyplot as plt\n",
    "import seaborn as sns\n",
    "import warnings\n",
    "warnings.filterwarnings('ignore')"
   ]
  },
  {
   "cell_type": "code",
   "execution_count": 2,
   "id": "a81d3cde-41e6-473c-93ad-79af04dad9af",
   "metadata": {},
   "outputs": [
    {
     "name": "stdout",
     "output_type": "stream",
     "text": [
      "(4209, 378)\n",
      "(4209, 377)\n"
     ]
    }
   ],
   "source": [
    "train_data = pd.read_csv('train.csv')\n",
    "test_data = pd.read_csv('test.csv')\n",
    "print(train_data.shape)\n",
    "print(test_data.shape)"
   ]
  },
  {
   "cell_type": "code",
   "execution_count": 3,
   "id": "51ecafc8-7e9f-4ecd-b40d-5f337e0eb7d8",
   "metadata": {},
   "outputs": [
    {
     "name": "stdout",
     "output_type": "stream",
     "text": [
      "X0\n",
      "X1\n",
      "X2\n",
      "X3\n",
      "X4\n",
      "X5\n",
      "X6\n",
      "X8\n"
     ]
    }
   ],
   "source": [
    "for i in train_data.columns:\n",
    "    data_type = train_data[i].dtype\n",
    "    if data_type == 'object':\n",
    "        print(i)"
   ]
  },
  {
   "cell_type": "code",
   "execution_count": null,
   "id": "0c9df4af-e304-4d7d-8a33-17063074e7a5",
   "metadata": {},
   "outputs": [],
   "source": [
    "If for any column(s), the variance is equal to zero, then you need to remove those variable(s)."
   ]
  },
  {
   "cell_type": "code",
   "execution_count": 4,
   "id": "eac53110-b896-4dce-9f79-eb3af18be28e",
   "metadata": {},
   "outputs": [
    {
     "name": "stdout",
     "output_type": "stream",
     "text": [
      "Name =  X11\n",
      "Name =  X93\n",
      "Name =  X107\n",
      "Name =  X233\n",
      "Name =  X235\n",
      "Name =  X268\n",
      "Name =  X289\n",
      "Name =  X290\n",
      "Name =  X293\n",
      "Name =  X297\n",
      "Name =  X330\n",
      "Name =  X347\n",
      "No of columns which has zero variance =  12\n"
     ]
    }
   ],
   "source": [
    "variance = pow(train_data.drop(columns={'ID','y'}).std(),2).to_dict()\n",
    "\n",
    "null_cnt = 0\n",
    "for key, value in variance.items():\n",
    "    if(value==0):\n",
    "        print('Name = ',key)\n",
    "        null_cnt = null_cnt+1\n",
    "print('No of columns which has zero variance = ',null_cnt)"
   ]
  },
  {
   "cell_type": "code",
   "execution_count": 5,
   "id": "fb1aa93c-5dbc-4c57-b357-2e3fb53aa013",
   "metadata": {},
   "outputs": [
    {
     "data": {
      "text/plain": [
       "(4209, 366)"
      ]
     },
     "execution_count": 5,
     "metadata": {},
     "output_type": "execute_result"
    }
   ],
   "source": [
    "train_data = train_data.drop(columns={'X11','X93','X107','X233','X235','X268','X289','X290','X293','X297','X330','X347'})\n",
    "train_data.shape"
   ]
  },
  {
   "cell_type": "code",
   "execution_count": null,
   "id": "a26c0d7e-a3f2-46f7-a2ed-7f69395125ca",
   "metadata": {},
   "outputs": [],
   "source": [
    "Check for null and unique values for test and train sets"
   ]
  },
  {
   "cell_type": "code",
   "execution_count": 6,
   "id": "cb2f3bbe-f4d2-44a5-a069-3280f00db803",
   "metadata": {},
   "outputs": [
    {
     "data": {
      "text/plain": [
       "False"
      ]
     },
     "execution_count": 6,
     "metadata": {},
     "output_type": "execute_result"
    }
   ],
   "source": [
    "train_data.isnull().sum().any()"
   ]
  },
  {
   "cell_type": "code",
   "execution_count": null,
   "id": "b98643cc-793b-4390-a34d-37b940c6bdac",
   "metadata": {},
   "outputs": [],
   "source": [
    "Apply label encoder"
   ]
  },
  {
   "cell_type": "code",
   "execution_count": 7,
   "id": "1dddc5ce-2dd2-4ae7-aa94-5073030ce33c",
   "metadata": {},
   "outputs": [],
   "source": [
    "from sklearn.preprocessing import LabelEncoder\n",
    "le = LabelEncoder()"
   ]
  },
  {
   "cell_type": "code",
   "execution_count": 8,
   "id": "ba7c1913-25cd-47ce-94c6-409c462a19ea",
   "metadata": {},
   "outputs": [
    {
     "name": "stdout",
     "output_type": "stream",
     "text": [
      "(4209, 364)\n",
      "(4209,)\n"
     ]
    }
   ],
   "source": [
    "train_data_feature = train_data.drop(columns={'y','ID'})\n",
    "train_data_target = train_data.y\n",
    "print(train_data_feature.shape)\n",
    "print(train_data_target.shape)"
   ]
  },
  {
   "cell_type": "code",
   "execution_count": 9,
   "id": "081cfa18-8370-4baf-9e7f-3fa499371637",
   "metadata": {},
   "outputs": [
    {
     "data": {
      "text/html": [
       "<div>\n",
       "<style scoped>\n",
       "    .dataframe tbody tr th:only-of-type {\n",
       "        vertical-align: middle;\n",
       "    }\n",
       "\n",
       "    .dataframe tbody tr th {\n",
       "        vertical-align: top;\n",
       "    }\n",
       "\n",
       "    .dataframe thead th {\n",
       "        text-align: right;\n",
       "    }\n",
       "</style>\n",
       "<table border=\"1\" class=\"dataframe\">\n",
       "  <thead>\n",
       "    <tr style=\"text-align: right;\">\n",
       "      <th></th>\n",
       "      <th>X0</th>\n",
       "      <th>X1</th>\n",
       "      <th>X2</th>\n",
       "      <th>X3</th>\n",
       "      <th>X4</th>\n",
       "      <th>X5</th>\n",
       "      <th>X6</th>\n",
       "      <th>X8</th>\n",
       "    </tr>\n",
       "  </thead>\n",
       "  <tbody>\n",
       "    <tr>\n",
       "      <th>count</th>\n",
       "      <td>4209</td>\n",
       "      <td>4209</td>\n",
       "      <td>4209</td>\n",
       "      <td>4209</td>\n",
       "      <td>4209</td>\n",
       "      <td>4209</td>\n",
       "      <td>4209</td>\n",
       "      <td>4209</td>\n",
       "    </tr>\n",
       "    <tr>\n",
       "      <th>unique</th>\n",
       "      <td>47</td>\n",
       "      <td>27</td>\n",
       "      <td>44</td>\n",
       "      <td>7</td>\n",
       "      <td>4</td>\n",
       "      <td>29</td>\n",
       "      <td>12</td>\n",
       "      <td>25</td>\n",
       "    </tr>\n",
       "    <tr>\n",
       "      <th>top</th>\n",
       "      <td>z</td>\n",
       "      <td>aa</td>\n",
       "      <td>as</td>\n",
       "      <td>c</td>\n",
       "      <td>d</td>\n",
       "      <td>w</td>\n",
       "      <td>g</td>\n",
       "      <td>j</td>\n",
       "    </tr>\n",
       "    <tr>\n",
       "      <th>freq</th>\n",
       "      <td>360</td>\n",
       "      <td>833</td>\n",
       "      <td>1659</td>\n",
       "      <td>1942</td>\n",
       "      <td>4205</td>\n",
       "      <td>231</td>\n",
       "      <td>1042</td>\n",
       "      <td>277</td>\n",
       "    </tr>\n",
       "  </tbody>\n",
       "</table>\n",
       "</div>"
      ],
      "text/plain": [
       "          X0    X1    X2    X3    X4    X5    X6    X8\n",
       "count   4209  4209  4209  4209  4209  4209  4209  4209\n",
       "unique    47    27    44     7     4    29    12    25\n",
       "top        z    aa    as     c     d     w     g     j\n",
       "freq     360   833  1659  1942  4205   231  1042   277"
      ]
     },
     "execution_count": 9,
     "metadata": {},
     "output_type": "execute_result"
    }
   ],
   "source": [
    "train_data_feature.describe(include='object')"
   ]
  },
  {
   "cell_type": "code",
   "execution_count": 10,
   "id": "e15868a7-b7c0-457b-9fdf-0dd0157c5083",
   "metadata": {},
   "outputs": [],
   "source": [
    "train_data_feature['X0'] = le.fit_transform(train_data_feature.X0)\n",
    "train_data_feature['X1'] = le.fit_transform(train_data_feature.X1)\n",
    "train_data_feature['X2'] = le.fit_transform(train_data_feature.X2)\n",
    "train_data_feature['X3'] = le.fit_transform(train_data_feature.X3)\n",
    "train_data_feature['X4'] = le.fit_transform(train_data_feature.X4)\n",
    "train_data_feature['X5'] = le.fit_transform(train_data_feature.X5)\n",
    "train_data_feature['X6'] = le.fit_transform(train_data_feature.X6)\n",
    "train_data_feature['X8'] = le.fit_transform(train_data_feature.X8)"
   ]
  },
  {
   "cell_type": "code",
   "execution_count": null,
   "id": "ba2422cb-b989-4ef4-8969-b0aa5735e266",
   "metadata": {},
   "outputs": [],
   "source": [
    "Perform dimensionality reduction."
   ]
  },
  {
   "cell_type": "code",
   "execution_count": 11,
   "id": "5be3967c-2929-4041-b899-d140427df395",
   "metadata": {},
   "outputs": [
    {
     "name": "stdout",
     "output_type": "stream",
     "text": [
      "(4209, 364)\n",
      "(4209,)\n"
     ]
    }
   ],
   "source": [
    "print(train_data_feature.shape)\n",
    "print(train_data_target.shape)"
   ]
  },
  {
   "cell_type": "code",
   "execution_count": 12,
   "id": "6114597b-3176-4a6a-9185-194f0c0f6d67",
   "metadata": {},
   "outputs": [],
   "source": [
    "from sklearn.decomposition import PCA\n",
    "pca = PCA(n_components=.95)"
   ]
  },
  {
   "cell_type": "code",
   "execution_count": 13,
   "id": "297254a4-5489-4162-852f-37aa4684ef99",
   "metadata": {},
   "outputs": [
    {
     "data": {
      "text/html": [
       "<style>#sk-container-id-1 {color: black;}#sk-container-id-1 pre{padding: 0;}#sk-container-id-1 div.sk-toggleable {background-color: white;}#sk-container-id-1 label.sk-toggleable__label {cursor: pointer;display: block;width: 100%;margin-bottom: 0;padding: 0.3em;box-sizing: border-box;text-align: center;}#sk-container-id-1 label.sk-toggleable__label-arrow:before {content: \"▸\";float: left;margin-right: 0.25em;color: #696969;}#sk-container-id-1 label.sk-toggleable__label-arrow:hover:before {color: black;}#sk-container-id-1 div.sk-estimator:hover label.sk-toggleable__label-arrow:before {color: black;}#sk-container-id-1 div.sk-toggleable__content {max-height: 0;max-width: 0;overflow: hidden;text-align: left;background-color: #f0f8ff;}#sk-container-id-1 div.sk-toggleable__content pre {margin: 0.2em;color: black;border-radius: 0.25em;background-color: #f0f8ff;}#sk-container-id-1 input.sk-toggleable__control:checked~div.sk-toggleable__content {max-height: 200px;max-width: 100%;overflow: auto;}#sk-container-id-1 input.sk-toggleable__control:checked~label.sk-toggleable__label-arrow:before {content: \"▾\";}#sk-container-id-1 div.sk-estimator input.sk-toggleable__control:checked~label.sk-toggleable__label {background-color: #d4ebff;}#sk-container-id-1 div.sk-label input.sk-toggleable__control:checked~label.sk-toggleable__label {background-color: #d4ebff;}#sk-container-id-1 input.sk-hidden--visually {border: 0;clip: rect(1px 1px 1px 1px);clip: rect(1px, 1px, 1px, 1px);height: 1px;margin: -1px;overflow: hidden;padding: 0;position: absolute;width: 1px;}#sk-container-id-1 div.sk-estimator {font-family: monospace;background-color: #f0f8ff;border: 1px dotted black;border-radius: 0.25em;box-sizing: border-box;margin-bottom: 0.5em;}#sk-container-id-1 div.sk-estimator:hover {background-color: #d4ebff;}#sk-container-id-1 div.sk-parallel-item::after {content: \"\";width: 100%;border-bottom: 1px solid gray;flex-grow: 1;}#sk-container-id-1 div.sk-label:hover label.sk-toggleable__label {background-color: #d4ebff;}#sk-container-id-1 div.sk-serial::before {content: \"\";position: absolute;border-left: 1px solid gray;box-sizing: border-box;top: 0;bottom: 0;left: 50%;z-index: 0;}#sk-container-id-1 div.sk-serial {display: flex;flex-direction: column;align-items: center;background-color: white;padding-right: 0.2em;padding-left: 0.2em;position: relative;}#sk-container-id-1 div.sk-item {position: relative;z-index: 1;}#sk-container-id-1 div.sk-parallel {display: flex;align-items: stretch;justify-content: center;background-color: white;position: relative;}#sk-container-id-1 div.sk-item::before, #sk-container-id-1 div.sk-parallel-item::before {content: \"\";position: absolute;border-left: 1px solid gray;box-sizing: border-box;top: 0;bottom: 0;left: 50%;z-index: -1;}#sk-container-id-1 div.sk-parallel-item {display: flex;flex-direction: column;z-index: 1;position: relative;background-color: white;}#sk-container-id-1 div.sk-parallel-item:first-child::after {align-self: flex-end;width: 50%;}#sk-container-id-1 div.sk-parallel-item:last-child::after {align-self: flex-start;width: 50%;}#sk-container-id-1 div.sk-parallel-item:only-child::after {width: 0;}#sk-container-id-1 div.sk-dashed-wrapped {border: 1px dashed gray;margin: 0 0.4em 0.5em 0.4em;box-sizing: border-box;padding-bottom: 0.4em;background-color: white;}#sk-container-id-1 div.sk-label label {font-family: monospace;font-weight: bold;display: inline-block;line-height: 1.2em;}#sk-container-id-1 div.sk-label-container {text-align: center;}#sk-container-id-1 div.sk-container {/* jupyter's `normalize.less` sets `[hidden] { display: none; }` but bootstrap.min.css set `[hidden] { display: none !important; }` so we also need the `!important` here to be able to override the default hidden behavior on the sphinx rendered scikit-learn.org. See: https://github.com/scikit-learn/scikit-learn/issues/21755 */display: inline-block !important;position: relative;}#sk-container-id-1 div.sk-text-repr-fallback {display: none;}</style><div id=\"sk-container-id-1\" class=\"sk-top-container\"><div class=\"sk-text-repr-fallback\"><pre>PCA(n_components=0.95)</pre><b>In a Jupyter environment, please rerun this cell to show the HTML representation or trust the notebook. <br />On GitHub, the HTML representation is unable to render, please try loading this page with nbviewer.org.</b></div><div class=\"sk-container\" hidden><div class=\"sk-item\"><div class=\"sk-estimator sk-toggleable\"><input class=\"sk-toggleable__control sk-hidden--visually\" id=\"sk-estimator-id-1\" type=\"checkbox\" checked><label for=\"sk-estimator-id-1\" class=\"sk-toggleable__label sk-toggleable__label-arrow\">PCA</label><div class=\"sk-toggleable__content\"><pre>PCA(n_components=0.95)</pre></div></div></div></div></div>"
      ],
      "text/plain": [
       "PCA(n_components=0.95)"
      ]
     },
     "execution_count": 13,
     "metadata": {},
     "output_type": "execute_result"
    }
   ],
   "source": [
    "pca.fit(train_data_feature, train_data_target)"
   ]
  },
  {
   "cell_type": "code",
   "execution_count": 14,
   "id": "39dc36a3-3237-46df-be23-d8621fb87e38",
   "metadata": {},
   "outputs": [
    {
     "name": "stdout",
     "output_type": "stream",
     "text": [
      "(4209, 6)\n"
     ]
    }
   ],
   "source": [
    "train_data_feature_trans = pca.fit_transform(train_data_feature)\n",
    "print(train_data_feature_trans.shape)"
   ]
  },
  {
   "cell_type": "code",
   "execution_count": null,
   "id": "88b97019-3fbc-4087-a667-1c008d69dd66",
   "metadata": {},
   "outputs": [],
   "source": [
    "Predict your test_df values using XGBoost"
   ]
  },
  {
   "cell_type": "code",
   "execution_count": null,
   "id": "5bc7bda6-1e91-4159-96d1-12e79d1d0fd1",
   "metadata": {},
   "outputs": [],
   "source": [
    "Building model using the train data set."
   ]
  },
  {
   "cell_type": "code",
   "execution_count": 15,
   "id": "af22cbed-d054-4968-addf-aa97749d88ef",
   "metadata": {},
   "outputs": [],
   "source": [
    "import xgboost as xgb\n",
    "from sklearn.model_selection import train_test_split\n",
    "from sklearn.metrics import r2_score, mean_squared_error\n",
    "from math import sqrt"
   ]
  },
  {
   "cell_type": "code",
   "execution_count": 16,
   "id": "eeaf7bd9-902b-467f-ae8a-2eb0c18eecaf",
   "metadata": {},
   "outputs": [
    {
     "name": "stdout",
     "output_type": "stream",
     "text": [
      "(2946, 6)\n",
      "(2946,)\n",
      "(1263, 6)\n",
      "(1263,)\n"
     ]
    }
   ],
   "source": [
    "train_x,test_x,train_y,test_y = train_test_split(train_data_feature_trans,train_data_target,test_size=.3,random_state=7)\n",
    "print(train_x.shape)\n",
    "print(train_y.shape)\n",
    "print(test_x.shape)\n",
    "print(test_y.shape)"
   ]
  },
  {
   "cell_type": "code",
   "execution_count": null,
   "id": "d3ae99eb-138d-4079-9f67-567bf59f3779",
   "metadata": {},
   "outputs": [],
   "source": [
    "XGBoost's hyperparameters tuning manually"
   ]
  },
  {
   "cell_type": "code",
   "execution_count": 17,
   "id": "f188059d-f66c-4076-9104-a3637202e6b0",
   "metadata": {},
   "outputs": [
    {
     "name": "stdout",
     "output_type": "stream",
     "text": [
      "[08:40:06] WARNING: ../src/objective/regression_obj.cu:203: reg:linear is now deprecated in favor of reg:squarederror.\n",
      "RMSE =  12.146556892077495\n"
     ]
    }
   ],
   "source": [
    "xgb_reg = xgb.XGBRegressor(objective ='reg:linear', colsample_bytree = 0.3, learning_rate = 0.4, max_depth = 10, alpha = 6, \n",
    "                           n_estimators = 20)\n",
    "model = xgb_reg.fit(train_x,train_y)\n",
    "print('RMSE = ',sqrt(mean_squared_error(model.predict(test_x),test_y)))"
   ]
  },
  {
   "cell_type": "code",
   "execution_count": null,
   "id": "a4f154b8-e3c3-4cba-92c3-4647990bafde",
   "metadata": {},
   "outputs": [],
   "source": [
    " - After tuning the hyperparameters to meet minimum RMSE, RMSE turned out as 12.29"
   ]
  },
  {
   "cell_type": "code",
   "execution_count": 18,
   "id": "8d5af176-58c9-449b-a895-7056989fe5f8",
   "metadata": {},
   "outputs": [
    {
     "data": {
      "image/png": "[encoded data removed]",
      "text/plain": [
       "<Figure size 720x360 with 1 Axes>"
      ]
     },
     "metadata": {
      "needs_background": "light"
     },
     "output_type": "display_data"
    }
   ],
   "source": [
    "pred_test_y = model.predict(test_x)\n",
    "\n",
    "plt.figure(figsize=(10,5))\n",
    "\n",
    "sns.distplot(test_y[test_y<160], color=\"skyblue\", label=\"Actual value\")\n",
    "sns.distplot(pred_test_y[pred_test_y<160] , color=\"red\", label=\"Predicted value\")\n",
    "plt.legend()\n",
    "\n",
    "plt.tight_layout()"
   ]
  },
  {
   "cell_type": "code",
   "execution_count": null,
   "id": "fd7bd67a-9f6a-47af-abfc-ffdf6fb2cebf",
   "metadata": {},
   "outputs": [],
   "source": [
    "k-fold Cross Validation using XGBoost"
   ]
  },
  {
   "cell_type": "code",
   "execution_count": 19,
   "id": "7420497f-1e2d-4812-8961-c7d18ab39569",
   "metadata": {},
   "outputs": [
    {
     "name": "stdout",
     "output_type": "stream",
     "text": [
      "[08:40:37] WARNING: ../src/objective/regression_obj.cu:203: reg:linear is now deprecated in favor of reg:squarederror.\n",
      "[08:40:37] WARNING: ../src/objective/regression_obj.cu:203: reg:linear is now deprecated in favor of reg:squarederror.\n",
      "[08:40:37] WARNING: ../src/objective/regression_obj.cu:203: reg:linear is now deprecated in favor of reg:squarederror.\n"
     ]
    },
    {
     "data": {
      "text/html": [
       "<div>\n",
       "<style scoped>\n",
       "    .dataframe tbody tr th:only-of-type {\n",
       "        vertical-align: middle;\n",
       "    }\n",
       "\n",
       "    .dataframe tbody tr th {\n",
       "        vertical-align: top;\n",
       "    }\n",
       "\n",
       "    .dataframe thead th {\n",
       "        text-align: right;\n",
       "    }\n",
       "</style>\n",
       "<table border=\"1\" class=\"dataframe\">\n",
       "  <thead>\n",
       "    <tr style=\"text-align: right;\">\n",
       "      <th></th>\n",
       "      <th>train-rmse-mean</th>\n",
       "      <th>train-rmse-std</th>\n",
       "      <th>test-rmse-mean</th>\n",
       "      <th>test-rmse-std</th>\n",
       "    </tr>\n",
       "  </thead>\n",
       "  <tbody>\n",
       "    <tr>\n",
       "      <th>24</th>\n",
       "      <td>9.323133</td>\n",
       "      <td>0.246655</td>\n",
       "      <td>11.073812</td>\n",
       "      <td>0.747930</td>\n",
       "    </tr>\n",
       "    <tr>\n",
       "      <th>25</th>\n",
       "      <td>9.252136</td>\n",
       "      <td>0.233868</td>\n",
       "      <td>11.049524</td>\n",
       "      <td>0.754310</td>\n",
       "    </tr>\n",
       "    <tr>\n",
       "      <th>26</th>\n",
       "      <td>9.190137</td>\n",
       "      <td>0.253900</td>\n",
       "      <td>11.037713</td>\n",
       "      <td>0.738556</td>\n",
       "    </tr>\n",
       "    <tr>\n",
       "      <th>27</th>\n",
       "      <td>9.150465</td>\n",
       "      <td>0.255192</td>\n",
       "      <td>11.036373</td>\n",
       "      <td>0.739662</td>\n",
       "    </tr>\n",
       "  </tbody>\n",
       "</table>\n",
       "</div>"
      ],
      "text/plain": [
       "    train-rmse-mean  train-rmse-std  test-rmse-mean  test-rmse-std\n",
       "24         9.323133        0.246655       11.073812       0.747930\n",
       "25         9.252136        0.233868       11.049524       0.754310\n",
       "26         9.190137        0.253900       11.037713       0.738556\n",
       "27         9.150465        0.255192       11.036373       0.739662"
      ]
     },
     "execution_count": 19,
     "metadata": {},
     "output_type": "execute_result"
    }
   ],
   "source": [
    "dmatrix_train = xgb.DMatrix(data=train_data_feature_trans,label=train_data_target)\n",
    "\n",
    "params = {'objective':'reg:linear', 'colsample_bytree': 0.3, 'learning_rate': 0.3, 'max_depth': 5, 'alpha': 10}\n",
    "\n",
    "model_cv = xgb.cv(dtrain=dmatrix_train, params=params, nfold=3, num_boost_round=50, early_stopping_rounds=10, \n",
    "                      metrics=\"rmse\", as_pandas=True, seed=7)\n",
    "model_cv.tail(4)"
   ]
  },
  {
   "cell_type": "code",
   "execution_count": null,
   "id": "76977b16-0d64-4cf1-a09a-bbc461a550ce",
   "metadata": {},
   "outputs": [],
   "source": [
    "- However, using k-fold cross validation, RMSE comes as 11.04. So the RMSE reduced by ~ 10%"
   ]
  },
  {
   "cell_type": "code",
   "execution_count": null,
   "id": "cabf9683-9af2-45cc-baff-0b146aff6ad8",
   "metadata": {},
   "outputs": [],
   "source": [
    "Prediction on test data set using XGBoost"
   ]
  },
  {
   "cell_type": "code",
   "execution_count": null,
   "id": "61080ecb-d362-494c-a2f2-2abe200c58a8",
   "metadata": {},
   "outputs": [],
   "source": [
    "Preparing test data set."
   ]
  },
  {
   "cell_type": "code",
   "execution_count": 20,
   "id": "a6d00206-76ef-4022-9811-e341babebd1f",
   "metadata": {},
   "outputs": [
    {
     "data": {
      "text/plain": [
       "(4209, 365)"
      ]
     },
     "execution_count": 20,
     "metadata": {},
     "output_type": "execute_result"
    }
   ],
   "source": [
    "test_data = test_data.drop(columns={'X11','X93','X107','X233','X235','X268','X289','X290','X293','X297','X330','X347'})\n",
    "test_data.shape"
   ]
  },
  {
   "cell_type": "code",
   "execution_count": 21,
   "id": "9a9293df-41d5-458c-901a-96258550b768",
   "metadata": {},
   "outputs": [
    {
     "data": {
      "text/plain": [
       "False"
      ]
     },
     "execution_count": 21,
     "metadata": {},
     "output_type": "execute_result"
    }
   ],
   "source": [
    "test_data.isnull().sum().any()"
   ]
  },
  {
   "cell_type": "code",
   "execution_count": 22,
   "id": "c91f1611-c73c-42f3-bfcf-8dc71076ff95",
   "metadata": {},
   "outputs": [
    {
     "name": "stdout",
     "output_type": "stream",
     "text": [
      "(4209, 364)\n"
     ]
    }
   ],
   "source": [
    "test_data_feature = test_data.drop(columns={'ID'})\n",
    "print(test_data_feature.shape)"
   ]
  },
  {
   "cell_type": "code",
   "execution_count": 23,
   "id": "407de45d-1f77-41fc-8a65-f13598870ec1",
   "metadata": {},
   "outputs": [
    {
     "data": {
      "text/html": [
       "<div>\n",
       "<style scoped>\n",
       "    .dataframe tbody tr th:only-of-type {\n",
       "        vertical-align: middle;\n",
       "    }\n",
       "\n",
       "    .dataframe tbody tr th {\n",
       "        vertical-align: top;\n",
       "    }\n",
       "\n",
       "    .dataframe thead th {\n",
       "        text-align: right;\n",
       "    }\n",
       "</style>\n",
       "<table border=\"1\" class=\"dataframe\">\n",
       "  <thead>\n",
       "    <tr style=\"text-align: right;\">\n",
       "      <th></th>\n",
       "      <th>X0</th>\n",
       "      <th>X1</th>\n",
       "      <th>X2</th>\n",
       "      <th>X3</th>\n",
       "      <th>X4</th>\n",
       "      <th>X5</th>\n",
       "      <th>X6</th>\n",
       "      <th>X8</th>\n",
       "    </tr>\n",
       "  </thead>\n",
       "  <tbody>\n",
       "    <tr>\n",
       "      <th>count</th>\n",
       "      <td>4209</td>\n",
       "      <td>4209</td>\n",
       "      <td>4209</td>\n",
       "      <td>4209</td>\n",
       "      <td>4209</td>\n",
       "      <td>4209</td>\n",
       "      <td>4209</td>\n",
       "      <td>4209</td>\n",
       "    </tr>\n",
       "    <tr>\n",
       "      <th>unique</th>\n",
       "      <td>49</td>\n",
       "      <td>27</td>\n",
       "      <td>45</td>\n",
       "      <td>7</td>\n",
       "      <td>4</td>\n",
       "      <td>32</td>\n",
       "      <td>12</td>\n",
       "      <td>25</td>\n",
       "    </tr>\n",
       "    <tr>\n",
       "      <th>top</th>\n",
       "      <td>ak</td>\n",
       "      <td>aa</td>\n",
       "      <td>as</td>\n",
       "      <td>c</td>\n",
       "      <td>d</td>\n",
       "      <td>v</td>\n",
       "      <td>g</td>\n",
       "      <td>e</td>\n",
       "    </tr>\n",
       "    <tr>\n",
       "      <th>freq</th>\n",
       "      <td>432</td>\n",
       "      <td>826</td>\n",
       "      <td>1658</td>\n",
       "      <td>1900</td>\n",
       "      <td>4203</td>\n",
       "      <td>246</td>\n",
       "      <td>1073</td>\n",
       "      <td>274</td>\n",
       "    </tr>\n",
       "  </tbody>\n",
       "</table>\n",
       "</div>"
      ],
      "text/plain": [
       "          X0    X1    X2    X3    X4    X5    X6    X8\n",
       "count   4209  4209  4209  4209  4209  4209  4209  4209\n",
       "unique    49    27    45     7     4    32    12    25\n",
       "top       ak    aa    as     c     d     v     g     e\n",
       "freq     432   826  1658  1900  4203   246  1073   274"
      ]
     },
     "execution_count": 23,
     "metadata": {},
     "output_type": "execute_result"
    }
   ],
   "source": [
    "test_data_feature.describe(include='object')"
   ]
  },
  {
   "cell_type": "code",
   "execution_count": 24,
   "id": "23ef3218-8d6b-4e55-bfd3-281ce9fb6709",
   "metadata": {},
   "outputs": [],
   "source": [
    "test_data_feature['X0'] = le.fit_transform(test_data_feature.X0)\n",
    "test_data_feature['X1'] = le.fit_transform(test_data_feature.X1)\n",
    "test_data_feature['X2'] = le.fit_transform(test_data_feature.X2)\n",
    "test_data_feature['X3'] = le.fit_transform(test_data_feature.X3)\n",
    "test_data_feature['X4'] = le.fit_transform(test_data_feature.X4)\n",
    "test_data_feature['X5'] = le.fit_transform(test_data_feature.X5)\n",
    "test_data_feature['X6'] = le.fit_transform(test_data_feature.X6)\n",
    "test_data_feature['X8'] = le.fit_transform(test_data_feature.X8)"
   ]
  },
  {
   "cell_type": "code",
   "execution_count": 25,
   "id": "31eceb8d-c4bc-4792-b807-db0046d2a51f",
   "metadata": {},
   "outputs": [
    {
     "data": {
      "text/html": [
       "<style>#sk-container-id-2 {color: black;}#sk-container-id-2 pre{padding: 0;}#sk-container-id-2 div.sk-toggleable {background-color: white;}#sk-container-id-2 label.sk-toggleable__label {cursor: pointer;display: block;width: 100%;margin-bottom: 0;padding: 0.3em;box-sizing: border-box;text-align: center;}#sk-container-id-2 label.sk-toggleable__label-arrow:before {content: \"▸\";float: left;margin-right: 0.25em;color: #696969;}#sk-container-id-2 label.sk-toggleable__label-arrow:hover:before {color: black;}#sk-container-id-2 div.sk-estimator:hover label.sk-toggleable__label-arrow:before {color: black;}#sk-container-id-2 div.sk-toggleable__content {max-height: 0;max-width: 0;overflow: hidden;text-align: left;background-color: #f0f8ff;}#sk-container-id-2 div.sk-toggleable__content pre {margin: 0.2em;color: black;border-radius: 0.25em;background-color: #f0f8ff;}#sk-container-id-2 input.sk-toggleable__control:checked~div.sk-toggleable__content {max-height: 200px;max-width: 100%;overflow: auto;}#sk-container-id-2 input.sk-toggleable__control:checked~label.sk-toggleable__label-arrow:before {content: \"▾\";}#sk-container-id-2 div.sk-estimator input.sk-toggleable__control:checked~label.sk-toggleable__label {background-color: #d4ebff;}#sk-container-id-2 div.sk-label input.sk-toggleable__control:checked~label.sk-toggleable__label {background-color: #d4ebff;}#sk-container-id-2 input.sk-hidden--visually {border: 0;clip: rect(1px 1px 1px 1px);clip: rect(1px, 1px, 1px, 1px);height: 1px;margin: -1px;overflow: hidden;padding: 0;position: absolute;width: 1px;}#sk-container-id-2 div.sk-estimator {font-family: monospace;background-color: #f0f8ff;border: 1px dotted black;border-radius: 0.25em;box-sizing: border-box;margin-bottom: 0.5em;}#sk-container-id-2 div.sk-estimator:hover {background-color: #d4ebff;}#sk-container-id-2 div.sk-parallel-item::after {content: \"\";width: 100%;border-bottom: 1px solid gray;flex-grow: 1;}#sk-container-id-2 div.sk-label:hover label.sk-toggleable__label {background-color: #d4ebff;}#sk-container-id-2 div.sk-serial::before {content: \"\";position: absolute;border-left: 1px solid gray;box-sizing: border-box;top: 0;bottom: 0;left: 50%;z-index: 0;}#sk-container-id-2 div.sk-serial {display: flex;flex-direction: column;align-items: center;background-color: white;padding-right: 0.2em;padding-left: 0.2em;position: relative;}#sk-container-id-2 div.sk-item {position: relative;z-index: 1;}#sk-container-id-2 div.sk-parallel {display: flex;align-items: stretch;justify-content: center;background-color: white;position: relative;}#sk-container-id-2 div.sk-item::before, #sk-container-id-2 div.sk-parallel-item::before {content: \"\";position: absolute;border-left: 1px solid gray;box-sizing: border-box;top: 0;bottom: 0;left: 50%;z-index: -1;}#sk-container-id-2 div.sk-parallel-item {display: flex;flex-direction: column;z-index: 1;position: relative;background-color: white;}#sk-container-id-2 div.sk-parallel-item:first-child::after {align-self: flex-end;width: 50%;}#sk-container-id-2 div.sk-parallel-item:last-child::after {align-self: flex-start;width: 50%;}#sk-container-id-2 div.sk-parallel-item:only-child::after {width: 0;}#sk-container-id-2 div.sk-dashed-wrapped {border: 1px dashed gray;margin: 0 0.4em 0.5em 0.4em;box-sizing: border-box;padding-bottom: 0.4em;background-color: white;}#sk-container-id-2 div.sk-label label {font-family: monospace;font-weight: bold;display: inline-block;line-height: 1.2em;}#sk-container-id-2 div.sk-label-container {text-align: center;}#sk-container-id-2 div.sk-container {/* jupyter's `normalize.less` sets `[hidden] { display: none; }` but bootstrap.min.css set `[hidden] { display: none !important; }` so we also need the `!important` here to be able to override the default hidden behavior on the sphinx rendered scikit-learn.org. See: https://github.com/scikit-learn/scikit-learn/issues/21755 */display: inline-block !important;position: relative;}#sk-container-id-2 div.sk-text-repr-fallback {display: none;}</style><div id=\"sk-container-id-2\" class=\"sk-top-container\"><div class=\"sk-text-repr-fallback\"><pre>PCA(n_components=0.95)</pre><b>In a Jupyter environment, please rerun this cell to show the HTML representation or trust the notebook. <br />On GitHub, the HTML representation is unable to render, please try loading this page with nbviewer.org.</b></div><div class=\"sk-container\" hidden><div class=\"sk-item\"><div class=\"sk-estimator sk-toggleable\"><input class=\"sk-toggleable__control sk-hidden--visually\" id=\"sk-estimator-id-2\" type=\"checkbox\" checked><label for=\"sk-estimator-id-2\" class=\"sk-toggleable__label sk-toggleable__label-arrow\">PCA</label><div class=\"sk-toggleable__content\"><pre>PCA(n_components=0.95)</pre></div></div></div></div></div>"
      ],
      "text/plain": [
       "PCA(n_components=0.95)"
      ]
     },
     "execution_count": 25,
     "metadata": {},
     "output_type": "execute_result"
    }
   ],
   "source": [
    "pca.fit(test_data_feature)"
   ]
  },
  {
   "cell_type": "code",
   "execution_count": 26,
   "id": "82c2ba06-258d-4aab-8e13-5ca82a65cfda",
   "metadata": {},
   "outputs": [
    {
     "name": "stdout",
     "output_type": "stream",
     "text": [
      "(4209, 6)\n"
     ]
    }
   ],
   "source": [
    "test_data_feature_trans = pca.fit_transform(test_data_feature)\n",
    "print(test_data_feature_trans.shape)"
   ]
  },
  {
   "cell_type": "code",
   "execution_count": 27,
   "id": "dc83b3da-3045-4f53-a278-84d79e821b1a",
   "metadata": {},
   "outputs": [
    {
     "data": {
      "text/plain": [
       "array([ 85.39225,  95.29286,  96.12302, ...,  95.33495, 118.03861,\n",
       "        96.75933], dtype=float32)"
      ]
     },
     "execution_count": 27,
     "metadata": {},
     "output_type": "execute_result"
    }
   ],
   "source": [
    "test_pred = model.predict(test_data_feature_trans)\n",
    "test_pred"
   ]
  },
  {
   "cell_type": "code",
   "execution_count": 28,
   "id": "6827fecb-d131-4706-ab78-fc7705c3cc2b",
   "metadata": {},
   "outputs": [
    {
     "data": {
      "image/png": "[encoded data removed]",
      "text/plain": [
       "<Figure size 1008x360 with 2 Axes>"
      ]
     },
     "metadata": {
      "needs_background": "light"
     },
     "output_type": "display_data"
    }
   ],
   "source": [
    "fig, ax = plt.subplots(1,2, figsize=(14,5))\n",
    "\n",
    "train_plot = sns.distplot(train_data_target[train_data_target<200], bins=100, kde=True, ax=ax[0])\n",
    "train_plot.set_xlabel('Target(train_data)', weight='bold', size=15)\n",
    "train_plot.set_ylabel('Distribution', weight='bold', size=15)\n",
    "train_plot.set_title(' Dist. of target for train data', weight='bold', size=15)\n",
    "\n",
    "test_plot = sns.distplot(test_pred[test_pred<200], bins=100, kde=True, ax=ax[1])\n",
    "test_plot.set_xlabel('Target(test_data)', weight='bold', size=15)\n",
    "test_plot.set_ylabel('Distribution', weight='bold', size=15)\n",
    "test_plot.set_title(' Dist. of target for test data', weight='bold', size=15)\n",
    "\n",
    "plt.tight_layout()"
   ]
  },
  {
   "cell_type": "code",
   "execution_count": null,
   "id": "acd69bee-c1e9-4087-a2e2-3373cdba5457",
   "metadata": {},
   "outputs": [],
   "source": [
    "This is a pictorial view for comparison between the target for training data-set and predicted target for testing data-set."
   ]
  }
 ],
 "metadata": {
  "kernelspec": {
   "display_name": "Python 3 [3.10]",
   "language": "python",
   "name": "python3"
  },
  "language_info": {
   "codemirror_mode": {
    "name": "ipython",
    "version": 3
   },
   "file_extension": ".py",
   "mimetype": "text/x-python",
   "name": "python",
   "nbconvert_exporter": "python",
   "pygments_lexer": "ipython3",
   "version": "3.10.2"
  }
 },
 "nbformat": 4,
 "nbformat_minor": 5
}
